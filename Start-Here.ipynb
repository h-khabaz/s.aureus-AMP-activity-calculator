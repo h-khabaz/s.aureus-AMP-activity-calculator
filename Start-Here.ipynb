{
 "cells": [
  {
   "cell_type": "code",
   "execution_count": 1,
   "metadata": {},
   "outputs": [],
   "source": [
    "#Put AMP Sequences here in the list\n",
    "b=[\"GLFDKWAWWRWRR\",\"FSEDFFGKEASGQLNGETYACALSA\",\"KKGLFDKWAWW\", \"KIGAIKKWGAIKKIGAIK\", \"KIGAILLLKKIGAIK\"]"
   ]
  },
  {
   "cell_type": "code",
   "execution_count": 3,
   "metadata": {},
   "outputs": [
    {
     "name": "stdout",
     "output_type": "stream",
     "text": [
      "-------AMP/non-AMP Classification Results-------\n",
      "Random Forest Classifier\n",
      "1 AMP GLFDKWAWWRWRR\n",
      "2 non-AMP FSEDFFGKEASGQLNGETYACALSA\n",
      "3 AMP KKGLFDKWAWW\n",
      "4 AMP KIGAIKKWGAIKKIGAIK\n",
      "5 AMP KIGAILLLKKIGAIK\n",
      "-------S.Aureus Activity Prediction-------\n",
      "Random Forest Classifier\n",
      "1 Negative GLFDKWAWWRWRR\n",
      "3 Negative KKGLFDKWAWW\n",
      "4 Positive KIGAIKKWGAIKKIGAIK\n",
      "5 Negative KIGAILLLKKIGAIK\n"
     ]
    }
   ],
   "source": [
    "#Just run it\n",
    "%run -i classifier\n"
   ]
  },
  {
   "cell_type": "code",
   "execution_count": null,
   "metadata": {},
   "outputs": [],
   "source": []
  }
 ],
 "metadata": {
  "kernelspec": {
   "display_name": "Python 3 (ipykernel)",
   "language": "python",
   "name": "python3"
  },
  "language_info": {
   "codemirror_mode": {
    "name": "ipython",
    "version": 3
   },
   "file_extension": ".py",
   "mimetype": "text/x-python",
   "name": "python",
   "nbconvert_exporter": "python",
   "pygments_lexer": "ipython3",
   "version": "3.7.6"
  }
 },
 "nbformat": 4,
 "nbformat_minor": 2
}
